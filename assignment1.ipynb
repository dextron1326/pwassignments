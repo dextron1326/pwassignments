{
  "nbformat": 4,
  "nbformat_minor": 0,
  "metadata": {
    "colab": {
      "provenance": []
    },
    "kernelspec": {
      "name": "python3",
      "display_name": "Python 3"
    },
    "language_info": {
      "name": "python"
    }
  },
  "cells": [
    {
      "cell_type": "code",
      "execution_count": 2,
      "metadata": {
        "id": "17K1adXZ-opY"
      },
      "outputs": [],
      "source": [
        "# (i) String\n",
        "my_string = \"Hello, Data Science Masters 2.0\"\n",
        "\n",
        "# (ii) List\n",
        "my_list = [1, 2, 3, 4, 5]\n",
        "\n",
        "# (iii) Float\n",
        "my_float = 3.14159\n",
        "\n",
        "# (iv) Tuple\n",
        "my_tuple = (10, 20, 30, 40, 50)\n"
      ]
    },
    {
      "cell_type": "code",
      "source": [],
      "metadata": {
        "id": "u-uEtSimBe1X"
      },
      "execution_count": null,
      "outputs": []
    },
    {
      "cell_type": "code",
      "source": [
        "my_string"
      ],
      "metadata": {
        "colab": {
          "base_uri": "https://localhost:8080/",
          "height": 35
        },
        "id": "IO4an8j8-vbs",
        "outputId": "1769da92-a983-4c2c-c937-c54989783b84"
      },
      "execution_count": 3,
      "outputs": [
        {
          "output_type": "execute_result",
          "data": {
            "text/plain": [
              "'Hello, Data Science Masters 2.0'"
            ],
            "application/vnd.google.colaboratory.intrinsic+json": {
              "type": "string"
            }
          },
          "metadata": {},
          "execution_count": 3
        }
      ]
    },
    {
      "cell_type": "code",
      "source": [
        "#(i) var1 is a string variable containing a single space character.\n",
        "\n",
        "#(ii) var2 is a string variable containing a string that appears to be formatted as a list, but it's actually a string with square brackets.\n",
        "\n",
        "#(iii) var3 is a list variable containing strings 'DS', 'ML', and 'Python'.\n",
        "\n",
        "#(iv) var4 is an integer variable containing the value 1."
      ],
      "metadata": {
        "id": "2MESVHD--ylU"
      },
      "execution_count": 10,
      "outputs": []
    },
    {
      "cell_type": "code",
      "source": [
        "#(i) / (Division Operator):\n",
        "\n",
        "#The / operator is used for division, and it performs floating-point division.\n",
        "#It divides the left operand by the right operand and returns a floating-point result.\n",
        "result = 10 / 3\n",
        "print(result)\n"
      ],
      "metadata": {
        "colab": {
          "base_uri": "https://localhost:8080/"
        },
        "id": "9m1g7Rgl_B5E",
        "outputId": "5258c147-7a43-4ca5-eb77-8cd6c02b9f6a"
      },
      "execution_count": 6,
      "outputs": [
        {
          "output_type": "stream",
          "name": "stdout",
          "text": [
            "3.3333333333333335\n"
          ]
        }
      ]
    },
    {
      "cell_type": "code",
      "source": [
        "#(ii) % (Modulus Operator):The % operator is used for finding the remainder of the division of the left operand by the right operand.\n",
        "remainder = 10 % 3\n",
        "print(remainder)\n"
      ],
      "metadata": {
        "colab": {
          "base_uri": "https://localhost:8080/"
        },
        "id": "er2f2_t4_Z8z",
        "outputId": "c23fabaa-07d1-40fe-8cfb-8decc05b7641"
      },
      "execution_count": 7,
      "outputs": [
        {
          "output_type": "stream",
          "name": "stdout",
          "text": [
            "1\n"
          ]
        }
      ]
    },
    {
      "cell_type": "code",
      "source": [
        "#The // operator is used for floor division, which performs division and rounds down the result to the nearest integer.\n",
        "result = 10 // 3\n",
        "print(result)\n"
      ],
      "metadata": {
        "colab": {
          "base_uri": "https://localhost:8080/"
        },
        "id": "A0KfRvkB_6v4",
        "outputId": "22d1afeb-0c0a-474b-b02f-7955fadae151"
      },
      "execution_count": 8,
      "outputs": [
        {
          "output_type": "stream",
          "name": "stdout",
          "text": [
            "3\n"
          ]
        }
      ]
    },
    {
      "cell_type": "code",
      "source": [
        "#The ** operator is used for exponentiation, which raises the left operand to the power of the right operand.\n",
        "result = 2 ** 3\n",
        "print(result)\n"
      ],
      "metadata": {
        "colab": {
          "base_uri": "https://localhost:8080/"
        },
        "id": "2C8B9UxEAHS2",
        "outputId": "5e0355e2-3e81-4df1-e2b7-ee07c80503b8"
      },
      "execution_count": 9,
      "outputs": [
        {
          "output_type": "stream",
          "name": "stdout",
          "text": [
            "8\n"
          ]
        }
      ]
    },
    {
      "cell_type": "code",
      "source": [
        "my_list = [1, \"Hello\", 3.14, [1, 2, 3], (\"apple\", \"banana\"), True, None, {'name': 'John', 'age': 30}, 4 + 2j, 45.67]\n",
        "\n",
        "for element in my_list:\n",
        "    print(f\"Element: {element}, Data Type: {type(element)}\")\n"
      ],
      "metadata": {
        "colab": {
          "base_uri": "https://localhost:8080/"
        },
        "id": "neQ-yCtDAPpI",
        "outputId": "fc5f4eb4-2088-455b-9e5e-6477835c5c15"
      },
      "execution_count": 11,
      "outputs": [
        {
          "output_type": "stream",
          "name": "stdout",
          "text": [
            "Element: 1, Data Type: <class 'int'>\n",
            "Element: Hello, Data Type: <class 'str'>\n",
            "Element: 3.14, Data Type: <class 'float'>\n",
            "Element: [1, 2, 3], Data Type: <class 'list'>\n",
            "Element: ('apple', 'banana'), Data Type: <class 'tuple'>\n",
            "Element: True, Data Type: <class 'bool'>\n",
            "Element: None, Data Type: <class 'NoneType'>\n",
            "Element: {'name': 'John', 'age': 30}, Data Type: <class 'dict'>\n",
            "Element: (4+2j), Data Type: <class 'complex'>\n",
            "Element: 45.67, Data Type: <class 'float'>\n"
          ]
        }
      ]
    },
    {
      "cell_type": "code",
      "source": [
        "# Input the two numbers A and B\n",
        "A = int(input(\"Enter the number A: \"))\n",
        "B = int(input(\"Enter the number B: \"))\n",
        "\n",
        "count = 0  # Initialize a count variable to keep track of the number of divisions\n",
        "\n",
        "# Check if B is not equal to 0 to avoid division by zero\n",
        "if B != 0:\n",
        "    while A % B == 0:\n",
        "        A = A // B  # Update A by dividing it by B\n",
        "        count += 1   # Increment the count\n",
        "\n",
        "    if count > 0:\n",
        "        print(f\"{A} is purely divisible by {B}, and it can be divided {count} times.\")\n",
        "    else:\n",
        "        print(f\"{A} is not purely divisible by {B}.\")\n",
        "else:\n",
        "    print(\"Division by zero is not allowed.\")\n",
        "\n"
      ],
      "metadata": {
        "colab": {
          "base_uri": "https://localhost:8080/"
        },
        "id": "sYdgRq8HAiVn",
        "outputId": "fcac0aba-f279-4ab8-b394-8be60a660d82"
      },
      "execution_count": 12,
      "outputs": [
        {
          "output_type": "stream",
          "name": "stdout",
          "text": [
            "Enter the number A: 5\n",
            "Enter the number B: 6\n",
            "5 is not purely divisible by 6.\n"
          ]
        }
      ]
    },
    {
      "cell_type": "code",
      "source": [
        "# Create a list of 25 integer values\n",
        "my_list = [5, 12, 9, 15, 8, 27, 6, 10, 21, 30, 17, 18, 24, 33, 7, 4, 36, 11, 14, 22, 19, 3, 16, 20, 25]\n",
        "\n",
        "# Use a for loop to iterate through the list\n",
        "for num in my_list:\n",
        "    if num % 3 == 0:\n",
        "        print(f\"{num} is divisible by 3.\")\n",
        "    else:\n",
        "        print(f\"{num} is not divisible by 3.\")\n"
      ],
      "metadata": {
        "colab": {
          "base_uri": "https://localhost:8080/"
        },
        "id": "v3L9zfLDAryV",
        "outputId": "12f8a36d-e09f-4fdc-9254-e8740f14c00d"
      },
      "execution_count": 13,
      "outputs": [
        {
          "output_type": "stream",
          "name": "stdout",
          "text": [
            "5 is not divisible by 3.\n",
            "12 is divisible by 3.\n",
            "9 is divisible by 3.\n",
            "15 is divisible by 3.\n",
            "8 is not divisible by 3.\n",
            "27 is divisible by 3.\n",
            "6 is divisible by 3.\n",
            "10 is not divisible by 3.\n",
            "21 is divisible by 3.\n",
            "30 is divisible by 3.\n",
            "17 is not divisible by 3.\n",
            "18 is divisible by 3.\n",
            "24 is divisible by 3.\n",
            "33 is divisible by 3.\n",
            "7 is not divisible by 3.\n",
            "4 is not divisible by 3.\n",
            "36 is divisible by 3.\n",
            "11 is not divisible by 3.\n",
            "14 is not divisible by 3.\n",
            "22 is not divisible by 3.\n",
            "19 is not divisible by 3.\n",
            "3 is divisible by 3.\n",
            "16 is not divisible by 3.\n",
            "20 is not divisible by 3.\n",
            "25 is not divisible by 3.\n"
          ]
        }
      ]
    },
    {
      "cell_type": "code",
      "source": [
        "#Mutable Data Types:Mutable objects are those whose values or contents can be modified after they are created.\n",
        "#When you modify a mutable object, you are actually changing the object itself, not creating a new one.Examples of mutable data types in Python include lists,\n",
        " #dictionaries, and sets.\n",
        "my_list = [1, 2, 3]\n",
        "my_list[0] = 4\n",
        "print(my_list)\n"
      ],
      "metadata": {
        "colab": {
          "base_uri": "https://localhost:8080/"
        },
        "id": "CRxduTH0A0Iq",
        "outputId": "7616e100-eace-4050-a26e-e00bc92f43c4"
      },
      "execution_count": 15,
      "outputs": [
        {
          "output_type": "stream",
          "name": "stdout",
          "text": [
            "[4, 2, 3]\n"
          ]
        }
      ]
    },
    {
      "cell_type": "code",
      "source": [
        "#Immutable objects are those whose values cannot be changed after they are created.\n",
        "#When you try to modify an immutable object, it creates a new object with the modified value, leaving the original object unchanged.\n",
        "#Examples of immutable data types in Python include integers, strings, and tuples.\n",
        "my_string = \"Hello\"\n",
        "new_string = my_string + \" World\"\n",
        "print(new_string)\n",
        "print(my_string)\n"
      ],
      "metadata": {
        "colab": {
          "base_uri": "https://localhost:8080/"
        },
        "id": "XXI-kIelBHqq",
        "outputId": "5bcdad18-ade3-49b1-f232-483d05e9c9e0"
      },
      "execution_count": 17,
      "outputs": [
        {
          "output_type": "stream",
          "name": "stdout",
          "text": [
            "Hello World\n",
            "Hello\n"
          ]
        }
      ]
    }
  ]
}